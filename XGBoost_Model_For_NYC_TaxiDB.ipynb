{
 "cells": [
  {
   "cell_type": "code",
   "execution_count": 1,
   "metadata": {},
   "outputs": [],
   "source": [
    "import pandas as pd\n",
    "import numpy as np\n",
    "import xgboost as xgb\n",
    "from haversine import haversine\n",
    "\n",
    "import pickle\n",
    "from sklearn.model_selection import train_test_split"
   ]
  },
  {
   "cell_type": "code",
   "execution_count": 1,
   "metadata": {},
   "outputs": [],
   "source": [
    "def featureEngineer(data):\n",
    "    '''\n",
    "    Function to pre-process and engineer features of the train data\n",
    "    '''\n",
    "    # Convert character variables to numeric\n",
    "    f = lambda x: 0 if x == 'N' else 1\n",
    "    data[\"store_and_fwd_flag\"] = data[\"store_and_fwd_flag\"].apply(lambda x: f(x))\n",
    "\n",
    "    # Convert datetime strings into datetime\n",
    "    data[\"dropoff_datetime\"] = pd.to_datetime(data[\"dropoff_datetime\"], format='%Y-%m-%d %H:%M:%S')\n",
    "    data[\"pickup_datetime\"] = pd.to_datetime(data[\"pickup_datetime\"], format='%Y-%m-%d %H:%M:%S')\n",
    "\n",
    "    # Now construct other variables, like month, date, etc.\n",
    "    data[\"pickup_month\"] = data[\"pickup_datetime\"].dt.month\n",
    "    data[\"pickup_day\"] = data[\"pickup_datetime\"].dt.day\n",
    "    data[\"pickup_weekday\"] = data[\"pickup_datetime\"].dt.weekday\n",
    "    data[\"pickup_hour\"] = data[\"pickup_datetime\"].dt.hour\n",
    "    data[\"pickup_minute\"] = data[\"pickup_datetime\"].dt.minute\n",
    "\n",
    "    # Get latitude and longitude differences\n",
    "    data[\"latitude_difference\"] = data[\"dropoff_latitude\"] - data[\"pickup_latitude\"]\n",
    "    data[\"longitude_difference\"] = data[\"dropoff_longitude\"] - data[\"pickup_longitude\"]\n",
    "\n",
    "    # Convert duration to minutes for easier interpretation\n",
    "    data[\"trip_duration\"] = data[\"trip_duration\"].apply(lambda x: round(x/60))\n"
   ]
  },
  {
   "cell_type": "code",
   "execution_count": 6,
   "metadata": {},
   "outputs": [],
   "source": [
    "def rmsle(y_true, y_pred):\n",
    "    \"\"\" Before \"\"\"\n",
    "    \n",
    "    '''\n",
    "    Function to define evaluation metric\n",
    "    >> Input: y_true -- ground truth labels, y_pred -- predicted labels\n",
    "    >> Output: evaluation metric\n",
    "    '''\n",
    "    assert len(y_true) == len(y_pred)\n",
    "    return np.square(np.log(y_pred + 1) - np.log(y_true + 1)).mean() ** 0.5"
   ]
  },
  {
   "cell_type": "code",
   "execution_count": 16,
   "metadata": {},
   "outputs": [],
   "source": [
    "def XGBmodel(X, y):\n",
    "    '''\n",
    "    Function to train a XGBoost machine learning model on the data\n",
    "    >> Input: X -- features, y -- label\n",
    "    >> Output:\n",
    "    '''\n",
    "    # Split the train data into training, test, and valdiation sets\n",
    "\n",
    "    X_train, X_test, y_train, y_test = train_test_split(X, y, \n",
    "                                                        test_size=0.2, random_state=2019)\n",
    "    \n",
    "    X_train, X_val, y_train, y_val = train_test_split(X_train, y_train, \n",
    "                                                      test_size=0.2, random_state=2019)\n",
    "\n",
    "    # XGBoost parameters\n",
    "    params = {\n",
    "        'n_jobs':             3, \n",
    "        'booster':            'gbtree',\n",
    "        'objective':          'reg:linear',\n",
    "        'learning_rate':      0.05,\n",
    "        'max_depth':          14,\n",
    "        'subsample':          0.9,\n",
    "        'colsample_bytree':   0.7,\n",
    "        'colsample_bylevel':  0.7,\n",
    "        'silent':             1,\n",
    "        'feval':              'rmsle'\n",
    "    }\n",
    "\n",
    "    # Define train and validation sets\n",
    "    dtrain = xgb.DMatrix(X_train, np.log(y_train+1))\n",
    "    dval = xgb.DMatrix(X_val, np.log(y_val+1))\n",
    "\n",
    "    # this is for tracking the error\n",
    "    watchlist = [(dval, 'eval'), (dtrain, 'train')]\n",
    "\n",
    "    # Number of training rounds\n",
    "    nrounds = 1000\n",
    "    # Train model\n",
    "    gbm = xgb.train(params, dtrain, num_boost_round = nrounds,\n",
    "                    evals = watchlist, verbose_eval = True)\n",
    "\n",
    "    # Test predictions\n",
    "    y_pred = np.exp(gbm.predict(xgb.DMatrix(X_test))) - 1\n",
    "\n",
    "    # Use mean absolute error to get a basic estimate of the error\n",
    "    mae = (abs(y_pred - y_test)).mean()\n",
    "\n",
    "    # Take a look at feature importance\n",
    "    feature_scores = gbm.get_fscore()\n",
    "\n",
    "    # Feature scaling\n",
    "    summ = 0\n",
    "    for key in feature_scores:\n",
    "        summ = summ + feature_scores[key]\n",
    "    for key in feature_scores:\n",
    "        feature_scores[key] = feature_scores[key] / summ\n",
    "\n",
    "    print('Mean Absolute Error:', mae)\n",
    "    print('Feature Importance:', feature_scores)\n",
    "\n",
    "    return gbm"
   ]
  },
  {
   "cell_type": "code",
   "execution_count": 4,
   "metadata": {},
   "outputs": [],
   "source": [
    "taxiDB = pd.read_csv('NYC-train-cleaned.csv')\n",
    "\n",
    "# Engineer features\n",
    "featureEngineer(taxiDB)"
   ]
  },
  {
   "cell_type": "code",
   "execution_count": 5,
   "metadata": {},
   "outputs": [],
   "source": [
    "# Get features and labels for the data\n",
    "X = taxiDB.drop([\"trip_duration\", \"id\", \"vendor_id\", \"pickup_datetime\", \"dropoff_datetime\"], axis=1)\n",
    "y = taxiDB[\"trip_duration\"]"
   ]
  },
  {
   "cell_type": "code",
   "execution_count": 7,
   "metadata": {},
   "outputs": [
    {
     "data": {
      "text/plain": [
       "Index(['passenger_count', 'pickup_longitude', 'pickup_latitude',\n",
       "       'dropoff_longitude', 'dropoff_latitude', 'store_and_fwd_flag',\n",
       "       'pickup_month', 'pickup_day', 'pickup_weekday', 'pickup_hour',\n",
       "       'pickup_minute', 'latitude_difference', 'longitude_difference',\n",
       "       'distance'],\n",
       "      dtype='object')"
      ]
     },
     "execution_count": 7,
     "metadata": {},
     "output_type": "execute_result"
    }
   ],
   "source": [
    "X.columns"
   ]
  },
  {
   "cell_type": "code",
   "execution_count": null,
   "metadata": {},
   "outputs": [],
   "source": [
    "# Train XGB Model to our data\n",
    "model = XGBmodel(X, y)\n",
    "filename = \"xgb_model.sav\"\n",
    "pickle.dump(model, open(filename, 'wb'))"
   ]
  },
  {
   "cell_type": "markdown",
   "metadata": {},
   "source": [
    "#### Mean Absolute Error: 2.624394634997983\n",
    "Feature Importance: \n",
    "{\n",
    "'distance': 0.07561965053695302,\n",
    "'longitude_difference': 0.08164822606947014,\n",
    "'pickup_latitude': 0.12563633790440462,\n",
    "'dropoff_longitude': 0.113152761231232,\n",
    "'latitude_difference': 0.08627949861853945,\n",
    "'pickup_weekday': 0.03251633883382762,\n",
    "'pickup_month': 0.03229480875009506,\n",
    "'pickup_minute': 0.06701747104002434,\n",
    "'passenger_count': 0.033071352225968076,\n",
    "'pickup_hour': 0.050597048659518556,\n",
    "'store_and_fwd_flag': 0.0009663886846974729,\n",
    "'dropoff_latitude': 0.10042415485876995,\n",
    "'pickup_day': 0.05986329032639646,\n",
    "'pickup_longitude': 0.14091267226010326\n",
    "}\n"
   ]
  },
  {
   "cell_type": "code",
   "execution_count": 45,
   "metadata": {},
   "outputs": [],
   "source": [
    "Feature_Importance = [('distance', 0.07561965053695302),\n",
    "                     ('longitude_difference', 0.08164822606947014),\n",
    "                     ('pickup_latitude', 0.12563633790440462),\n",
    "                     ('dropoff_longitude', 0.113152761231232),\n",
    "                     ('latitude_difference', 0.08627949861853945),\n",
    "                     ('pickup_weekday', 0.03251633883382762),\n",
    "                     ('pickup_month', 0.03229480875009506),\n",
    "                     ('pickup_minute', 0.06701747104002434),\n",
    "                     ('passenger_count', 0.033071352225968076),\n",
    "                     ('pickup_hour', 0.050597048659518556),\n",
    "                     ('store_and_fwd_flag', 0.0009663886846974729),\n",
    "                     ('dropoff_latitude', 0.10042415485876995),\n",
    "                     ('pickup_day', 0.05986329032639646),\n",
    "                     ('pickup_longitude', 0.14091267226010326)]"
   ]
  },
  {
   "cell_type": "code",
   "execution_count": 46,
   "metadata": {},
   "outputs": [
    {
     "name": "stdout",
     "output_type": "stream",
     "text": [
      "('pickup_longitude', 0.14091267226010326)\n",
      "('pickup_latitude', 0.12563633790440462)\n",
      "('dropoff_longitude', 0.113152761231232)\n",
      "('dropoff_latitude', 0.10042415485876995)\n",
      "('latitude_difference', 0.08627949861853945)\n",
      "('longitude_difference', 0.08164822606947014)\n",
      "('distance', 0.07561965053695302)\n",
      "('pickup_minute', 0.06701747104002434)\n",
      "('pickup_day', 0.05986329032639646)\n",
      "('pickup_hour', 0.050597048659518556)\n",
      "('passenger_count', 0.033071352225968076)\n",
      "('pickup_weekday', 0.03251633883382762)\n",
      "('pickup_month', 0.03229480875009506)\n",
      "('store_and_fwd_flag', 0.0009663886846974729)\n"
     ]
    }
   ],
   "source": [
    "while len(Feature_Importance) > 0:\n",
    "    mx = 0\n",
    "    for i,item in enumerate(Feature_Importance):\n",
    "        if item[1] > mx:\n",
    "            mx = item[1]\n",
    "            max_value = item\n",
    "    print(max_value)\n",
    "    Feature_Importance.remove(max_value)"
   ]
  },
  {
   "cell_type": "code",
   "execution_count": null,
   "metadata": {},
   "outputs": [],
   "source": []
  },
  {
   "cell_type": "code",
   "execution_count": null,
   "metadata": {},
   "outputs": [],
   "source": []
  },
  {
   "cell_type": "code",
   "execution_count": null,
   "metadata": {},
   "outputs": [],
   "source": []
  },
  {
   "cell_type": "code",
   "execution_count": null,
   "metadata": {},
   "outputs": [],
   "source": []
  },
  {
   "cell_type": "code",
   "execution_count": null,
   "metadata": {},
   "outputs": [],
   "source": []
  },
  {
   "cell_type": "code",
   "execution_count": null,
   "metadata": {},
   "outputs": [],
   "source": []
  },
  {
   "cell_type": "code",
   "execution_count": null,
   "metadata": {},
   "outputs": [],
   "source": []
  }
 ],
 "metadata": {
  "kernelspec": {
   "display_name": "Python 3",
   "language": "python",
   "name": "python3"
  },
  "language_info": {
   "codemirror_mode": {
    "name": "ipython",
    "version": 3
   },
   "file_extension": ".py",
   "mimetype": "text/x-python",
   "name": "python",
   "nbconvert_exporter": "python",
   "pygments_lexer": "ipython3",
   "version": "3.7.3"
  }
 },
 "nbformat": 4,
 "nbformat_minor": 2
}
