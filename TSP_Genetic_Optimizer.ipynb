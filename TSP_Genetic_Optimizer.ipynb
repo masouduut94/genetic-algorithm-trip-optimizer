{
 "cells": [
  {
   "cell_type": "code",
   "execution_count": 1,
   "metadata": {},
   "outputs": [],
   "source": [
    "import pandas as pd\n",
    "import numpy as np\n",
    "import xgboost as xgb\n",
    "import matplotlib.pyplot as plt\n",
    "\n",
    "import random\n",
    "import pickle\n",
    "import seaborn as sns\n",
    "sns.set()\n",
    "\n",
    "from copy import deepcopy\n",
    "import datetime\n",
    "from haversine import haversine\n",
    "\n",
    "import warnings;warnings.simplefilter('ignore')"
   ]
  },
  {
   "cell_type": "code",
   "execution_count": 2,
   "metadata": {},
   "outputs": [],
   "source": [
    "class chromosome:\n",
    "    \"\"\"\n",
    "    Class to build chromosome specified for TSP problem. It makes use \n",
    "    of pandas dataframe to keep the locations (latitudes, logitudes)\n",
    "    and their order.\n",
    "    \"\"\"\n",
    "    def __init__(self, locations):\n",
    "        self.df = pd.DataFrame(columns=['x','y'])\n",
    "        for location in locations:\n",
    "            self.df = self.df.append(location, ignore_index=True)\n",
    "            \n",
    "    def Shuffle(self, order=None):\n",
    "        \"\"\"\n",
    "        shuffle the dataframe if the order is not given\n",
    "        \"\"\"\n",
    "        if not order:\n",
    "            order = self.Path()\n",
    "            random.shuffle(order)\n",
    "        self.df = self.df.reindex(order)\n",
    "    \n",
    "    def Path(self):\n",
    "        \"\"\"\n",
    "        returns the order of visiting locations\n",
    "        \"\"\"\n",
    "        return self.df.index.tolist()\n",
    "    \n",
    "    def CrossOver_1(self):\n",
    "        \"\"\"\n",
    "        Substitute elements pairwise from begining \n",
    "        \"\"\"\n",
    "        order = self.Path()\n",
    "        for i in range(1,len(order)):\n",
    "            if (i%2 == 1):\n",
    "                order[i], order[i-1] = order[i-1], order[i]\n",
    "        self.Shuffle(order)\n",
    "    \n",
    "    def CrossOver_2(self):\n",
    "        \"\"\"\n",
    "        Split total path into two parts, then replace them with each other\n",
    "        \"\"\"\n",
    "        order = self.Path()\n",
    "        middle = int(len(order)/2)\n",
    "        for i in range(middle):\n",
    "            order[i], order[i+middle] = order[i+middle], order[i]\n",
    "        self.Shuffle(order)\n",
    "    \n",
    "    def Mutate(self, n_mut):\n",
    "        \"\"\"\n",
    "        Selects random locations from path and substitute them with\n",
    "        each other\n",
    "        \"\"\"\n",
    "        order = self.Path()\n",
    "        mutated = random.choices(order, k=n_mut)\n",
    "        for i in range(len(mutated)):\n",
    "            if i%2==0:\n",
    "                order[mutated[i]], order[mutated[i+1]] = order[mutated[i+1]], order[mutated[i]]\n",
    "        self.Shuffle(order)\n",
    "        \n",
    "    def Fitness(self):\n",
    "        \"\"\"\n",
    "        Calculates the total cost of traveling through whole path\n",
    "        \"\"\"\n",
    "        passenger_count=1\n",
    "        store_and_fwd_flag=0\n",
    "        date_list = [27, 5, 2016]\n",
    "        year = int(date_list[2])\n",
    "        month = int(date_list[1])\n",
    "        day = int(date_list[0])\n",
    "        my_date = datetime.date(year, month, day)\n",
    "        \n",
    "        data = []\n",
    "        for  index in range(1,self.df.shape[0]):\n",
    "            p_x = self.df.x.iloc[index-1]\n",
    "            p_y = self.df.y.iloc[index-1]\n",
    "            \n",
    "            d_x = self.df.x.iloc[index]\n",
    "            d_y = self.df.y.iloc[index]\n",
    "            \n",
    "            model_data = {\n",
    "                    'passenger_count': passenger_count,\n",
    "                    'pickup_longitude': p_x,\n",
    "                    'pickup_latitude': p_y,\n",
    "                    'dropoff_longitude': d_x,\n",
    "                    'dropoff_latitude': d_y,\n",
    "                    'store_and_fwd_flag': bool(store_and_fwd_flag),\n",
    "                    'pickup_month': my_date.month,\n",
    "                    'pickup_day': my_date.day,\n",
    "                    'pickup_weekday': my_date.weekday(),\n",
    "                    'pickup_hour': 11,\n",
    "                    'pickup_minute': 0,\n",
    "                    'latitude_difference': p_x - d_x,\n",
    "                    'longitude_difference': p_y - d_y,\n",
    "                    'distance': haversine((p_x,p_y), (d_x, d_y))\n",
    "                    }\n",
    "            data.append(model_data)\n",
    "                \n",
    "        p_x = self.df.x.iloc[-1]\n",
    "        p_y = self.df.y.iloc[-1]\n",
    "\n",
    "        d_x = self.df.x.iloc[0]\n",
    "        d_y = self.df.y.iloc[0]\n",
    "        model_data = {\n",
    "            'passenger_count': passenger_count,\n",
    "            'pickup_longitude': p_x,\n",
    "            'pickup_latitude': p_y,\n",
    "            'dropoff_longitude': d_x,\n",
    "            'dropoff_latitude': d_y,\n",
    "            'store_and_fwd_flag': bool(store_and_fwd_flag),\n",
    "            'pickup_month': my_date.month,\n",
    "            'pickup_day': my_date.day,\n",
    "            'pickup_weekday': my_date.weekday(),\n",
    "            'pickup_hour': 11,\n",
    "            'pickup_minute': 0,\n",
    "            'latitude_difference': p_x - d_x,\n",
    "            'longitude_difference': p_y - d_y,\n",
    "            'distance': haversine((p_x,p_y), (d_x, d_y)),\n",
    "        }\n",
    "        data.append(model_data)\n",
    "        \n",
    "        df = pd.DataFrame(data, columns=model_data.keys())\n",
    "        preds = np.exp(xgb_model.predict(xgb.DMatrix(df))) - 1\n",
    "        return preds.sum()\n",
    "    \n",
    "    def Plot(self):\n",
    "        \"\"\"\n",
    "        Ploting the traveling path according to visiting order of locations.\n",
    "        \"\"\"\n",
    "        plt.figure(figsize=(10,10))\n",
    "        ax = self.df.plot.scatter('x', 'y', title='TOTAL PATH='+str(self.Path()), figsize=(8,8))\n",
    "        \n",
    "        ax.set_xlabel('longitude')\n",
    "        ax.set_ylabel('latitude')\n",
    "        \n",
    "        for i in range(self.df.shape[0]):\n",
    "            ax.annotate(i, (self.df.x.iloc[i], self.df.y.iloc[i]), fontsize=30)\n",
    "            \n",
    "        def drawArrow(A, B, color='r'):\n",
    "            plt.arrow(A.x, A.y, B.x-A.x, B.y-A.y, width=0.0003, color=color, length_includes_head=True)\n",
    "\n",
    "        for i in range(1,len(self.df)):\n",
    "            drawArrow(self.df.iloc[i-1], self.df.iloc[i], 'r')\n",
    "            \n",
    "        drawArrow(self.df.iloc[-1], self.df.iloc[0], 'b')\n",
    "        plt.show()"
   ]
  },
  {
   "cell_type": "code",
   "execution_count": 3,
   "metadata": {},
   "outputs": [],
   "source": [
    "def calc_distance(loc1, loc2):\n",
    "    # Calculate distance between two locations\n",
    "    start = (loc1['x'], loc1['y'])\n",
    "    end = (loc2['x'], loc2['y'])\n",
    "    return haversine(start, end)\n",
    "\n",
    "def fitness(elem):\n",
    "    return elem[1]"
   ]
  },
  {
   "cell_type": "markdown",
   "metadata": {},
   "source": [
    "# Parameters for Genetic Algorithm"
   ]
  },
  {
   "cell_type": "code",
   "execution_count": 32,
   "metadata": {},
   "outputs": [
    {
     "name": "stdout",
     "output_type": "stream",
     "text": [
      "[18:21:40] WARNING: /workspace/src/objective/regression_obj.cu:152: reg:linear is now deprecated in favor of reg:squarederror.\n"
     ]
    }
   ],
   "source": [
    "filename = \"xgb_model.sav\"\n",
    "xgb_model = pickle.load(open(filename, 'rb'))\n",
    "n_locations = 15\n",
    "n_pop = 40\n",
    "n_generations = 100\n",
    "mu_rate = 0.2\n",
    "keep_rate = 0.4"
   ]
  },
  {
   "cell_type": "markdown",
   "metadata": {},
   "source": [
    "# Collecting Data and Preprocessing"
   ]
  },
  {
   "cell_type": "code",
   "execution_count": 33,
   "metadata": {},
   "outputs": [],
   "source": [
    "data = pd.read_csv('test.csv')\n",
    "start = 0\n",
    "samples = data.iloc[start:start+n_locations].reset_index(drop=True)\n",
    "locations = []\n",
    "temp = {}\n",
    "for i in range(samples.shape[0]):\n",
    "    x = samples.iloc[i].pickup_longitude\n",
    "    y = samples.iloc[i].pickup_latitude\n",
    "    locations.append({'x':x, 'y':y})"
   ]
  },
  {
   "cell_type": "markdown",
   "metadata": {},
   "source": [
    "### Initial population "
   ]
  },
  {
   "cell_type": "code",
   "execution_count": 34,
   "metadata": {},
   "outputs": [],
   "source": [
    "chromosomes = []\n",
    "for i in range(n_pop):\n",
    "    chm = chromosome(locations)\n",
    "    chm.Shuffle()\n",
    "    chromosomes.append([chm, chm.Fitness()])\n",
    "chromosomes.sort(key=fitness)"
   ]
  },
  {
   "cell_type": "markdown",
   "metadata": {},
   "source": [
    "# Main Loop"
   ]
  },
  {
   "cell_type": "code",
   "execution_count": 35,
   "metadata": {},
   "outputs": [
    {
     "name": "stdout",
     "output_type": "stream",
     "text": [
      "Path optimized to  225.0178  at epoch =  1\n",
      "Path optimized to  211.90877  at epoch =  8\n",
      "Path optimized to  204.27168  at epoch =  15\n",
      "Path optimized to  200.66768  at epoch =  17\n",
      "Path optimized to  199.86179  at epoch =  25\n",
      "Path optimized to  193.59206  at epoch =  26\n",
      "Path optimized to  192.82498  at epoch =  86\n",
      "Path optimized to  185.43958  at epoch =  91\n"
     ]
    }
   ],
   "source": [
    "results = []\n",
    "results.append(chromosomes[0][1])\n",
    "\n",
    "for epoch in range(n_generations):\n",
    "    n_keep = int(keep_rate * n_pop)\n",
    "    for i in range(n_keep,n_pop):\n",
    "        parent = deepcopy(random.choice(chromosomes[0:n_keep])[0])\n",
    "        parent.CrossOver_1()\n",
    "        chromosomes[i] = [parent, parent.Fitness()]\n",
    "        \n",
    "    chromosomes.sort(key=fitness)\n",
    "    for i in range(1,n_pop):\n",
    "        m = random.random()\n",
    "        if m <= mu_rate:\n",
    "            chromosomes[i][0].Mutate(6)\n",
    "            chromosomes[i][1] = chromosomes[i][0].Fitness()\n",
    "    chromosomes.sort(key=fitness)\n",
    "    if chromosomes[0][1] < min(results):\n",
    "        print('Path optimized to ', chromosomes[0][1], ' at epoch = ', epoch)\n",
    "    results.append(chromosomes[0][1])"
   ]
  },
  {
   "cell_type": "code",
   "execution_count": 36,
   "metadata": {
    "scrolled": true
   },
   "outputs": [
    {
     "name": "stderr",
     "output_type": "stream",
     "text": [
      "'c' argument looks like a single numeric RGB or RGBA sequence, which should be avoided as value-mapping will have precedence in case its length matches with 'x' & 'y'.  Please use a 2-D array with a single row if you really want to specify the same RGB or RGBA value for all points.\n"
     ]
    },
    {
     "data": {
      "text/plain": [
       "<Figure size 720x720 with 0 Axes>"
      ]
     },
     "metadata": {},
     "output_type": "display_data"
    },
    {
     "data": {
      "image/png": "[encoded data removed]",
      "text/plain": [
       "<Figure size 576x576 with 1 Axes>"
      ]
     },
     "metadata": {
      "needs_background": "light"
     },
     "output_type": "display_data"
    }
   ],
   "source": [
    "chromosomes[0][0].Plot()"
   ]
  },
  {
   "cell_type": "code",
   "execution_count": 37,
   "metadata": {},
   "outputs": [
    {
     "data": {
      "text/plain": [
       "[<matplotlib.lines.Line2D at 0x7f0414f77908>]"
      ]
     },
     "execution_count": 37,
     "metadata": {},
     "output_type": "execute_result"
    },
    {
     "data": {
      "image/png": "[encoded data removed]",
      "text/plain": [
       "<Figure size 432x288 with 1 Axes>"
      ]
     },
     "metadata": {
      "needs_background": "light"
     },
     "output_type": "display_data"
    }
   ],
   "source": [
    "plt.plot(results)"
   ]
  },
  {
   "cell_type": "code",
   "execution_count": null,
   "metadata": {},
   "outputs": [],
   "source": []
  }
 ],
 "metadata": {
  "kernelspec": {
   "display_name": "Python 3",
   "language": "python",
   "name": "python3"
  },
  "language_info": {
   "codemirror_mode": {
    "name": "ipython",
    "version": 3
   },
   "file_extension": ".py",
   "mimetype": "text/x-python",
   "name": "python",
   "nbconvert_exporter": "python",
   "pygments_lexer": "ipython3",
   "version": "3.7.3"
  }
 },
 "nbformat": 4,
 "nbformat_minor": 2
}
