{
 "cells": [
  {
   "cell_type": "code",
   "execution_count": 41,
   "metadata": {},
   "outputs": [
    {
     "name": "stdout",
     "output_type": "stream",
     "text": [
      "[13:50:50] WARNING: /workspace/src/objective/regression_obj.cu:152: reg:linear is now deprecated in favor of reg:squarederror.\n"
     ]
    }
   ],
   "source": [
    "import pandas as pd\n",
    "import numpy as np\n",
    "import xgboost as xgb\n",
    "import matplotlib.pyplot as plt\n",
    "import random\n",
    "import pickle\n",
    "import seaborn as sns\n",
    "sns.set()\n",
    "from copy import deepcopy\n",
    "import datetime\n",
    "from haversine import haversine\n",
    "\n",
    "import warnings;warnings.simplefilter('ignore')\n",
    "xgb_model = pickle.load(open('xgb_model.sav', 'rb'))"
   ]
  },
  {
   "cell_type": "code",
   "execution_count": 42,
   "metadata": {},
   "outputs": [],
   "source": [
    "class Chromosome:\n",
    "    \"\"\"\n",
    "    Class to build chromosome specified for TSP problem. It makes use \n",
    "    of pandas dataframe to keep the locations (latitudes, logitudes)\n",
    "    and their order.\n",
    "    \"\"\"\n",
    "    def __init__(self, locations):\n",
    "        self.df = pd.DataFrame(columns=['x','y'])\n",
    "        for location in locations:\n",
    "            self.df = self.df.append(location, ignore_index=True)\n",
    "            \n",
    "    def Shuffle(self, order=None):\n",
    "        \"\"\"\n",
    "        shuffle the dataframe if the order is not given\n",
    "        \"\"\"\n",
    "        if not order:\n",
    "            order = self.Path\n",
    "            random.shuffle(order)\n",
    "        self.df = self.df.reindex(order)\n",
    "        \n",
    "    @property\n",
    "    def Path(self):\n",
    "        \"\"\"\n",
    "        returns the order of visiting locations\n",
    "        \"\"\"\n",
    "        return self.df.index.tolist().copy()\n",
    "    \n",
    "    def CrossOver_1(self):\n",
    "        \"\"\"\n",
    "        Substitute elements pairwise from begining \n",
    "        \"\"\"\n",
    "        order = self.Path\n",
    "        for i in range(1,len(order)):\n",
    "            if (i%2 == 1):\n",
    "                order[i], order[i-1] = order[i-1], order[i]\n",
    "        self.Shuffle(order)\n",
    "    \n",
    "    def CrossOver_2(self):\n",
    "        \"\"\"\n",
    "        Split total path into two parts, then replace them with each other\n",
    "        \"\"\"\n",
    "        order = self.Path\n",
    "        middle = int(len(order)/2)\n",
    "        for i in range(middle):\n",
    "            order[i], order[i+middle] = order[i+middle], order[i]\n",
    "        self.Shuffle(order)\n",
    "    \n",
    "    def Mutate(self, n_mut):\n",
    "        \"\"\"\n",
    "        Selects random locations from path and substitute them with\n",
    "        each other\n",
    "        \"\"\"\n",
    "        order = self.Path\n",
    "        mutated = random.choices(order, k=n_mut)\n",
    "        for i in range(len(mutated)):\n",
    "            if i%2==0:\n",
    "                order[mutated[i]], order[mutated[i+1]] = order[mutated[i+1]], order[mutated[i]]\n",
    "        self.Shuffle(order)\n",
    "    \n",
    "    @property\n",
    "    def Fitness(self):\n",
    "        \"\"\"\n",
    "        Calculates the total cost of traveling through whole path\n",
    "        \"\"\"\n",
    "        passenger_count=1\n",
    "        store_and_fwd_flag=0\n",
    "        date_list = [27, 5, 2016]\n",
    "        year = int(date_list[2])\n",
    "        month = int(date_list[1])\n",
    "        day = int(date_list[0])\n",
    "        my_date = datetime.date(year, month, day)\n",
    "        \n",
    "        data = []\n",
    "        for  index in range(1,self.df.shape[0]):\n",
    "            p_x = self.df.x.iloc[index-1]\n",
    "            p_y = self.df.y.iloc[index-1]\n",
    "            \n",
    "            d_x = self.df.x.iloc[index]\n",
    "            d_y = self.df.y.iloc[index]\n",
    "            \n",
    "            model_data = {\n",
    "                    'passenger_count': passenger_count,'pickup_longitude': p_x,\n",
    "                    'pickup_latitude': p_y,'dropoff_longitude': d_x,\n",
    "                    'dropoff_latitude': d_y,'store_and_fwd_flag': bool(store_and_fwd_flag),\n",
    "                    'pickup_month': my_date.month,'pickup_day': my_date.day,\n",
    "                    'pickup_weekday': my_date.weekday(),'pickup_hour': 11,\n",
    "                    'pickup_minute': 0,'latitude_difference': p_x - d_x,\n",
    "                    'longitude_difference': p_y - d_y,'distance': haversine((p_x,p_y), (d_x, d_y))\n",
    "                    }\n",
    "            data.append(model_data)\n",
    "                \n",
    "        p_x = self.df.x.iloc[-1]\n",
    "        p_y = self.df.y.iloc[-1]\n",
    "\n",
    "        d_x = self.df.x.iloc[0]\n",
    "        d_y = self.df.y.iloc[0]\n",
    "        model_data = {\n",
    "            'passenger_count': passenger_count,'pickup_longitude': p_x,\n",
    "            'pickup_latitude': p_y,'dropoff_longitude': d_x,\n",
    "            'dropoff_latitude': d_y,'store_and_fwd_flag': bool(store_and_fwd_flag),\n",
    "            'pickup_month': my_date.month,'pickup_day': my_date.day,\n",
    "            'pickup_weekday': my_date.weekday(),'pickup_hour': 11,\n",
    "            'pickup_minute': 0,'latitude_difference': p_x - d_x,\n",
    "            'longitude_difference': p_y - d_y,'distance': haversine((p_x,p_y),(d_x, d_y)),\n",
    "        }\n",
    "        data.append(model_data)\n",
    "        \n",
    "        df = pd.DataFrame(data, columns=model_data.keys())\n",
    "        preds = np.exp(xgb_model.predict(xgb.DMatrix(df))) - 1\n",
    "        return preds.sum()\n",
    "    \n",
    "    def Plot(self):\n",
    "        \"\"\"\n",
    "        Ploting the traveling path according to visiting order of locations.\n",
    "        \"\"\"\n",
    "        plt.figure(figsize=(10,10))\n",
    "        ax = self.df.plot.scatter('x', 'y', title='TOTAL PATH='+str(self.Path), figsize=(8,8))\n",
    "        \n",
    "        ax.set_xlabel('longitude')\n",
    "        ax.set_ylabel('latitude')\n",
    "        \n",
    "        for i in range(self.df.shape[0]):\n",
    "            ax.annotate(i, (self.df.x.iloc[i], self.df.y.iloc[i]), fontsize=30)\n",
    "            \n",
    "        def drawArrow(A, B, color='r'):\n",
    "            plt.arrow(A.x, A.y, B.x-A.x, B.y-A.y, width=0.0003, color=color, length_includes_head=True)\n",
    "\n",
    "        for i in range(1,len(self.df)):\n",
    "            drawArrow(self.df.iloc[i-1], self.df.iloc[i], 'r')\n",
    "            \n",
    "        drawArrow(self.df.iloc[-1], self.df.iloc[0], 'b')\n",
    "        plt.show()"
   ]
  },
  {
   "cell_type": "code",
   "execution_count": 43,
   "metadata": {},
   "outputs": [],
   "source": [
    "def calc_distance(loc1, loc2):\n",
    "    # Calculate distance between two locations\n",
    "    start = (loc1['x'], loc1['y'])\n",
    "    end = (loc2['x'], loc2['y'])\n",
    "    return haversine(start, end)\n",
    "\n",
    "def fitness(elem):\n",
    "    return elem[1]"
   ]
  },
  {
   "cell_type": "markdown",
   "metadata": {},
   "source": [
    "# Parameters for Genetic Algorithm"
   ]
  },
  {
   "cell_type": "code",
   "execution_count": 45,
   "metadata": {},
   "outputs": [],
   "source": [
    "class GeneticOptimizer:\n",
    "    def __init__(self, csv_file=\"test.csv\", \n",
    "                 num_locations=15, populations=10, generations=100,\n",
    "                 mutation_rate=0.2, keep_rate=0.4) -> None:\n",
    "        \"\"\"\n",
    "        num_location -> It is the size of chromosome | how many location you want to add to path\n",
    "        populations -> The number of chromosomes\n",
    "        generations -> number of epochs\n",
    "        mutation_rate -> what percentage of population have to be mutated?| between 0 and 1\n",
    "        keep_rate -> what percentage of populations have to be kept?| between 0 and 1\n",
    "        \n",
    "        \"\"\"\n",
    "        self.num_locations = num_locations\n",
    "        self.populations = populations\n",
    "        self.generations = generations\n",
    "        self.mutation_rate = mutation_rate\n",
    "        self.keep_rate = keep_rate\n",
    "        self.data = pd.read_csv(csv_file)\n",
    "        self.locations = []\n",
    "        self.chromosomes = []\n",
    "        self.prepare()\n",
    "        print('Prepared!')\n",
    "        \n",
    "    def prepare(self)->None:\n",
    "        \"\"\"Initialize first generations\"\"\"\n",
    "        start = 0\n",
    "        samples = self.data.iloc[start:start+self.num_locations].reset_index(drop=True)\n",
    "        temp = {}\n",
    "        for i in range(samples.shape[0]):\n",
    "            x = samples.iloc[i].pickup_longitude\n",
    "            y = samples.iloc[i].pickup_latitude\n",
    "            self.locations.append({'x':x, 'y':y})\n",
    "    \n",
    "        self.chromosomes = []\n",
    "        for i in range(self.populations):\n",
    "            chm = Chromosome(self.locations)\n",
    "            chm.Shuffle()\n",
    "            self.chromosomes.append([chm, chm.Fitness])\n",
    "        self.chromosomes.sort(key=fitness)\n",
    "\n",
    "    def run(self)->list:\n",
    "        \"\"\"Run the algorithm\"\"\"\n",
    "        # results -> keep track of best result of each generation\n",
    "        \n",
    "        results = []\n",
    "        n_keep = int(self.keep_rate * self.populations)\n",
    "        \n",
    "        for epoch in range(self.generations):\n",
    "            # Keep the best one\n",
    "            results.append(self.chromosomes[0][1])\n",
    "            for i in range(n_keep,self.populations):\n",
    "                parent = deepcopy(random.choice(self.chromosomes[0:n_keep])[0])\n",
    "                parent.CrossOver_1()\n",
    "                self.chromosomes[i] = [parent, parent.Fitness]\n",
    "            \n",
    "            # Mutate the population\n",
    "            for i in range(1,self.populations):\n",
    "                m = random.random()\n",
    "                if m <= self.mutation_rate:\n",
    "                    self.chromosomes[i][0].Mutate(6)\n",
    "                    self.chromosomes[i][1] = self.chromosomes[i][0].Fitness\n",
    "                    \n",
    "            # Sort the chromosomes based on fitness function\n",
    "            self.chromosomes.sort(key=fitness)\n",
    "            \n",
    "            # Is is optimized?\n",
    "            if self.chromosomes[0][1] < min(results):\n",
    "                print('Path optimized to ', self.chromosomes[0][1], ' at epoch = ', epoch)\n",
    "            \n",
    "            \n",
    "        return results\n",
    "    @staticmethod\n",
    "    def plot(results):\n",
    "        plt.xlabel('Epochs')\n",
    "        plt.ylabel('Cost')\n",
    "        plt.plot(results)\n",
    " \n",
    "    def map_plot(self):\n",
    "        self.chromosomes[0][0].Plot()"
   ]
  },
  {
   "cell_type": "markdown",
   "metadata": {},
   "source": [
    "## Run the program"
   ]
  },
  {
   "cell_type": "code",
   "execution_count": 52,
   "metadata": {},
   "outputs": [
    {
     "name": "stdout",
     "output_type": "stream",
     "text": [
      "Prepared!\n",
      "Path optimized to  138.2481  at epoch =  3\n",
      "Path optimized to  136.23232  at epoch =  15\n",
      "Path optimized to  125.69333  at epoch =  16\n",
      "Path optimized to  119.03181  at epoch =  84\n",
      "Path optimized to  114.12848  at epoch =  134\n"
     ]
    }
   ],
   "source": [
    "args = {'populations':40, 'num_locations':10,\n",
    "        'generations':200, 'mutation_rate':0.2,\n",
    "        'keep_rate':0.4, 'csv_file':\"test.csv\"}\n",
    "\n",
    "agent = GeneticOptimizer(**args)\n",
    "results = agent.run()"
   ]
  },
  {
   "cell_type": "markdown",
   "metadata": {},
   "source": [
    "## How algorithm optimized cost through iterations."
   ]
  },
  {
   "cell_type": "code",
   "execution_count": 53,
   "metadata": {},
   "outputs": [
    {
     "data": {
      "image/png": "[encoded data removed]",
      "text/plain": [
       "<Figure size 432x288 with 1 Axes>"
      ]
     },
     "metadata": {},
     "output_type": "display_data"
    }
   ],
   "source": [
    "GeneticOptimizer.plot(results)"
   ]
  },
  {
   "cell_type": "markdown",
   "metadata": {},
   "source": [
    "# The best path found"
   ]
  },
  {
   "cell_type": "code",
   "execution_count": 54,
   "metadata": {},
   "outputs": [
    {
     "name": "stderr",
     "output_type": "stream",
     "text": [
      "'c' argument looks like a single numeric RGB or RGBA sequence, which should be avoided as value-mapping will have precedence in case its length matches with 'x' & 'y'.  Please use a 2-D array with a single row if you really want to specify the same RGB or RGBA value for all points.\n"
     ]
    },
    {
     "data": {
      "text/plain": [
       "<Figure size 720x720 with 0 Axes>"
      ]
     },
     "metadata": {},
     "output_type": "display_data"
    },
    {
     "data": {
      "image/png": "[encoded data removed]",
      "text/plain": [
       "<Figure size 576x576 with 1 Axes>"
      ]
     },
     "metadata": {},
     "output_type": "display_data"
    }
   ],
   "source": [
    "agent.map_plot()"
   ]
  }
 ],
 "metadata": {
  "kernelspec": {
   "display_name": "Python 3",
   "language": "python",
   "name": "python3"
  },
  "language_info": {
   "codemirror_mode": {
    "name": "ipython",
    "version": 3
   },
   "file_extension": ".py",
   "mimetype": "text/x-python",
   "name": "python",
   "nbconvert_exporter": "python",
   "pygments_lexer": "ipython3",
   "version": "3.7.3"
  }
 },
 "nbformat": 4,
 "nbformat_minor": 2
}
